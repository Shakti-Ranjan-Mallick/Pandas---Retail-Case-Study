{
 "cells": [
  {
   "cell_type": "markdown",
   "id": "fa7bb242",
   "metadata": {},
   "source": [
    "### Retails Case Study"
   ]
  },
  {
   "cell_type": "code",
   "execution_count": 2,
   "id": "e2631a12",
   "metadata": {},
   "outputs": [],
   "source": [
    "import pandas as pd\n",
    "import numpy as np\n",
    "import matplotlib.pyplot as plt\n",
    "import datetime as dt\n",
    "import seaborn as sns\n",
    "import re\n",
    "\n",
    "# set the graphs to show in the jupyter notebook\n",
    "%matplotlib inline\n",
    "\n",
    "# set seabor graphs to a better style\n",
    "sns.set(style=\"ticks\")"
   ]
  },
  {
   "cell_type": "markdown",
   "id": "fda5505e",
   "metadata": {},
   "source": [
    "#### Customer Data"
   ]
  },
  {
   "cell_type": "code",
   "execution_count": 3,
   "id": "298efe23",
   "metadata": {},
   "outputs": [
    {
     "data": {
      "text/html": [
       "<div>\n",
       "<style scoped>\n",
       "    .dataframe tbody tr th:only-of-type {\n",
       "        vertical-align: middle;\n",
       "    }\n",
       "\n",
       "    .dataframe tbody tr th {\n",
       "        vertical-align: top;\n",
       "    }\n",
       "\n",
       "    .dataframe thead th {\n",
       "        text-align: right;\n",
       "    }\n",
       "</style>\n",
       "<table border=\"1\" class=\"dataframe\">\n",
       "  <thead>\n",
       "    <tr style=\"text-align: right;\">\n",
       "      <th></th>\n",
       "      <th>customer_Id</th>\n",
       "      <th>DOB</th>\n",
       "      <th>Gender</th>\n",
       "      <th>city_code</th>\n",
       "    </tr>\n",
       "  </thead>\n",
       "  <tbody>\n",
       "    <tr>\n",
       "      <th>0</th>\n",
       "      <td>268408</td>\n",
       "      <td>02-01-1970</td>\n",
       "      <td>M</td>\n",
       "      <td>4.0</td>\n",
       "    </tr>\n",
       "    <tr>\n",
       "      <th>1</th>\n",
       "      <td>269696</td>\n",
       "      <td>07-01-1970</td>\n",
       "      <td>F</td>\n",
       "      <td>8.0</td>\n",
       "    </tr>\n",
       "    <tr>\n",
       "      <th>2</th>\n",
       "      <td>268159</td>\n",
       "      <td>08-01-1970</td>\n",
       "      <td>F</td>\n",
       "      <td>8.0</td>\n",
       "    </tr>\n",
       "    <tr>\n",
       "      <th>3</th>\n",
       "      <td>270181</td>\n",
       "      <td>10-01-1970</td>\n",
       "      <td>F</td>\n",
       "      <td>2.0</td>\n",
       "    </tr>\n",
       "    <tr>\n",
       "      <th>4</th>\n",
       "      <td>268073</td>\n",
       "      <td>11-01-1970</td>\n",
       "      <td>M</td>\n",
       "      <td>1.0</td>\n",
       "    </tr>\n",
       "    <tr>\n",
       "      <th>...</th>\n",
       "      <td>...</td>\n",
       "      <td>...</td>\n",
       "      <td>...</td>\n",
       "      <td>...</td>\n",
       "    </tr>\n",
       "    <tr>\n",
       "      <th>5642</th>\n",
       "      <td>274474</td>\n",
       "      <td>19-12-1992</td>\n",
       "      <td>M</td>\n",
       "      <td>2.0</td>\n",
       "    </tr>\n",
       "    <tr>\n",
       "      <th>5643</th>\n",
       "      <td>267666</td>\n",
       "      <td>24-12-1992</td>\n",
       "      <td>M</td>\n",
       "      <td>6.0</td>\n",
       "    </tr>\n",
       "    <tr>\n",
       "      <th>5644</th>\n",
       "      <td>270476</td>\n",
       "      <td>25-12-1992</td>\n",
       "      <td>F</td>\n",
       "      <td>3.0</td>\n",
       "    </tr>\n",
       "    <tr>\n",
       "      <th>5645</th>\n",
       "      <td>269626</td>\n",
       "      <td>27-12-1992</td>\n",
       "      <td>F</td>\n",
       "      <td>5.0</td>\n",
       "    </tr>\n",
       "    <tr>\n",
       "      <th>5646</th>\n",
       "      <td>274308</td>\n",
       "      <td>29-12-1992</td>\n",
       "      <td>F</td>\n",
       "      <td>5.0</td>\n",
       "    </tr>\n",
       "  </tbody>\n",
       "</table>\n",
       "<p>5647 rows × 4 columns</p>\n",
       "</div>"
      ],
      "text/plain": [
       "      customer_Id         DOB Gender  city_code\n",
       "0          268408  02-01-1970      M        4.0\n",
       "1          269696  07-01-1970      F        8.0\n",
       "2          268159  08-01-1970      F        8.0\n",
       "3          270181  10-01-1970      F        2.0\n",
       "4          268073  11-01-1970      M        1.0\n",
       "...           ...         ...    ...        ...\n",
       "5642       274474  19-12-1992      M        2.0\n",
       "5643       267666  24-12-1992      M        6.0\n",
       "5644       270476  25-12-1992      F        3.0\n",
       "5645       269626  27-12-1992      F        5.0\n",
       "5646       274308  29-12-1992      F        5.0\n",
       "\n",
       "[5647 rows x 4 columns]"
      ]
     },
     "execution_count": 3,
     "metadata": {},
     "output_type": "execute_result"
    }
   ],
   "source": [
    "customer = pd.read_csv(\"Customer.csv\")\n",
    "customer"
   ]
  },
  {
   "cell_type": "markdown",
   "id": "7d4f1376",
   "metadata": {},
   "source": [
    "##### Exploratory Data Analysis"
   ]
  },
  {
   "cell_type": "code",
   "execution_count": 4,
   "id": "0214b280",
   "metadata": {},
   "outputs": [
    {
     "name": "stdout",
     "output_type": "stream",
     "text": [
      "<class 'pandas.core.frame.DataFrame'>\n",
      "RangeIndex: 5647 entries, 0 to 5646\n",
      "Data columns (total 4 columns):\n",
      " #   Column       Non-Null Count  Dtype  \n",
      "---  ------       --------------  -----  \n",
      " 0   customer_Id  5647 non-null   int64  \n",
      " 1   DOB          5647 non-null   object \n",
      " 2   Gender       5645 non-null   object \n",
      " 3   city_code    5645 non-null   float64\n",
      "dtypes: float64(1), int64(1), object(2)\n",
      "memory usage: 176.6+ KB\n"
     ]
    }
   ],
   "source": [
    "customer.info()"
   ]
  },
  {
   "cell_type": "code",
   "execution_count": 16,
   "id": "f950665a",
   "metadata": {},
   "outputs": [
    {
     "data": {
      "text/plain": [
       "Index(['customer_Id', 'DOB', 'Gender', 'city_code'], dtype='object')"
      ]
     },
     "execution_count": 16,
     "metadata": {},
     "output_type": "execute_result"
    }
   ],
   "source": [
    "customer.columns"
   ]
  },
  {
   "cell_type": "code",
   "execution_count": 13,
   "id": "c6f116e9",
   "metadata": {},
   "outputs": [
    {
     "data": {
      "text/plain": [
       "(5647, 4)"
      ]
     },
     "execution_count": 13,
     "metadata": {},
     "output_type": "execute_result"
    }
   ],
   "source": [
    "customer.shape"
   ]
  },
  {
   "cell_type": "markdown",
   "id": "918857f9",
   "metadata": {},
   "source": [
    "#### Transaction Data"
   ]
  },
  {
   "cell_type": "code",
   "execution_count": 18,
   "id": "1126c7dc",
   "metadata": {},
   "outputs": [
    {
     "data": {
      "text/html": [
       "<div>\n",
       "<style scoped>\n",
       "    .dataframe tbody tr th:only-of-type {\n",
       "        vertical-align: middle;\n",
       "    }\n",
       "\n",
       "    .dataframe tbody tr th {\n",
       "        vertical-align: top;\n",
       "    }\n",
       "\n",
       "    .dataframe thead th {\n",
       "        text-align: right;\n",
       "    }\n",
       "</style>\n",
       "<table border=\"1\" class=\"dataframe\">\n",
       "  <thead>\n",
       "    <tr style=\"text-align: right;\">\n",
       "      <th></th>\n",
       "      <th>transaction_id</th>\n",
       "      <th>cust_id</th>\n",
       "      <th>tran_date</th>\n",
       "      <th>prod_subcat_code</th>\n",
       "      <th>prod_cat_code</th>\n",
       "      <th>Qty</th>\n",
       "      <th>Rate</th>\n",
       "      <th>Tax</th>\n",
       "      <th>total_amt</th>\n",
       "      <th>Store_type</th>\n",
       "    </tr>\n",
       "  </thead>\n",
       "  <tbody>\n",
       "    <tr>\n",
       "      <th>0</th>\n",
       "      <td>80712190438</td>\n",
       "      <td>270351</td>\n",
       "      <td>28-02-2014</td>\n",
       "      <td>1</td>\n",
       "      <td>1</td>\n",
       "      <td>-5</td>\n",
       "      <td>-772</td>\n",
       "      <td>405.300</td>\n",
       "      <td>-4265.300</td>\n",
       "      <td>e-Shop</td>\n",
       "    </tr>\n",
       "    <tr>\n",
       "      <th>1</th>\n",
       "      <td>29258453508</td>\n",
       "      <td>270384</td>\n",
       "      <td>27-02-2014</td>\n",
       "      <td>5</td>\n",
       "      <td>3</td>\n",
       "      <td>-5</td>\n",
       "      <td>-1497</td>\n",
       "      <td>785.925</td>\n",
       "      <td>-8270.925</td>\n",
       "      <td>e-Shop</td>\n",
       "    </tr>\n",
       "    <tr>\n",
       "      <th>2</th>\n",
       "      <td>51750724947</td>\n",
       "      <td>273420</td>\n",
       "      <td>24-02-2014</td>\n",
       "      <td>6</td>\n",
       "      <td>5</td>\n",
       "      <td>-2</td>\n",
       "      <td>-791</td>\n",
       "      <td>166.110</td>\n",
       "      <td>-1748.110</td>\n",
       "      <td>TeleShop</td>\n",
       "    </tr>\n",
       "    <tr>\n",
       "      <th>3</th>\n",
       "      <td>93274880719</td>\n",
       "      <td>271509</td>\n",
       "      <td>24-02-2014</td>\n",
       "      <td>11</td>\n",
       "      <td>6</td>\n",
       "      <td>-3</td>\n",
       "      <td>-1363</td>\n",
       "      <td>429.345</td>\n",
       "      <td>-4518.345</td>\n",
       "      <td>e-Shop</td>\n",
       "    </tr>\n",
       "    <tr>\n",
       "      <th>4</th>\n",
       "      <td>51750724947</td>\n",
       "      <td>273420</td>\n",
       "      <td>23-02-2014</td>\n",
       "      <td>6</td>\n",
       "      <td>5</td>\n",
       "      <td>-2</td>\n",
       "      <td>-791</td>\n",
       "      <td>166.110</td>\n",
       "      <td>-1748.110</td>\n",
       "      <td>TeleShop</td>\n",
       "    </tr>\n",
       "    <tr>\n",
       "      <th>...</th>\n",
       "      <td>...</td>\n",
       "      <td>...</td>\n",
       "      <td>...</td>\n",
       "      <td>...</td>\n",
       "      <td>...</td>\n",
       "      <td>...</td>\n",
       "      <td>...</td>\n",
       "      <td>...</td>\n",
       "      <td>...</td>\n",
       "      <td>...</td>\n",
       "    </tr>\n",
       "    <tr>\n",
       "      <th>23048</th>\n",
       "      <td>94340757522</td>\n",
       "      <td>274550</td>\n",
       "      <td>25-01-2011</td>\n",
       "      <td>12</td>\n",
       "      <td>5</td>\n",
       "      <td>1</td>\n",
       "      <td>1264</td>\n",
       "      <td>132.720</td>\n",
       "      <td>1396.720</td>\n",
       "      <td>e-Shop</td>\n",
       "    </tr>\n",
       "    <tr>\n",
       "      <th>23049</th>\n",
       "      <td>89780862956</td>\n",
       "      <td>270022</td>\n",
       "      <td>25-01-2011</td>\n",
       "      <td>4</td>\n",
       "      <td>1</td>\n",
       "      <td>1</td>\n",
       "      <td>677</td>\n",
       "      <td>71.085</td>\n",
       "      <td>748.085</td>\n",
       "      <td>e-Shop</td>\n",
       "    </tr>\n",
       "    <tr>\n",
       "      <th>23050</th>\n",
       "      <td>85115299378</td>\n",
       "      <td>271020</td>\n",
       "      <td>25-01-2011</td>\n",
       "      <td>2</td>\n",
       "      <td>6</td>\n",
       "      <td>4</td>\n",
       "      <td>1052</td>\n",
       "      <td>441.840</td>\n",
       "      <td>4649.840</td>\n",
       "      <td>MBR</td>\n",
       "    </tr>\n",
       "    <tr>\n",
       "      <th>23051</th>\n",
       "      <td>72870271171</td>\n",
       "      <td>270911</td>\n",
       "      <td>25-01-2011</td>\n",
       "      <td>11</td>\n",
       "      <td>5</td>\n",
       "      <td>3</td>\n",
       "      <td>1142</td>\n",
       "      <td>359.730</td>\n",
       "      <td>3785.730</td>\n",
       "      <td>TeleShop</td>\n",
       "    </tr>\n",
       "    <tr>\n",
       "      <th>23052</th>\n",
       "      <td>77960931771</td>\n",
       "      <td>271961</td>\n",
       "      <td>25-01-2011</td>\n",
       "      <td>11</td>\n",
       "      <td>5</td>\n",
       "      <td>1</td>\n",
       "      <td>447</td>\n",
       "      <td>46.935</td>\n",
       "      <td>493.935</td>\n",
       "      <td>TeleShop</td>\n",
       "    </tr>\n",
       "  </tbody>\n",
       "</table>\n",
       "<p>23053 rows × 10 columns</p>\n",
       "</div>"
      ],
      "text/plain": [
       "       transaction_id  cust_id   tran_date  prod_subcat_code  prod_cat_code  \\\n",
       "0         80712190438   270351  28-02-2014                 1              1   \n",
       "1         29258453508   270384  27-02-2014                 5              3   \n",
       "2         51750724947   273420  24-02-2014                 6              5   \n",
       "3         93274880719   271509  24-02-2014                11              6   \n",
       "4         51750724947   273420  23-02-2014                 6              5   \n",
       "...               ...      ...         ...               ...            ...   \n",
       "23048     94340757522   274550  25-01-2011                12              5   \n",
       "23049     89780862956   270022  25-01-2011                 4              1   \n",
       "23050     85115299378   271020  25-01-2011                 2              6   \n",
       "23051     72870271171   270911  25-01-2011                11              5   \n",
       "23052     77960931771   271961  25-01-2011                11              5   \n",
       "\n",
       "       Qty  Rate      Tax  total_amt Store_type  \n",
       "0       -5  -772  405.300  -4265.300     e-Shop  \n",
       "1       -5 -1497  785.925  -8270.925     e-Shop  \n",
       "2       -2  -791  166.110  -1748.110   TeleShop  \n",
       "3       -3 -1363  429.345  -4518.345     e-Shop  \n",
       "4       -2  -791  166.110  -1748.110   TeleShop  \n",
       "...    ...   ...      ...        ...        ...  \n",
       "23048    1  1264  132.720   1396.720     e-Shop  \n",
       "23049    1   677   71.085    748.085     e-Shop  \n",
       "23050    4  1052  441.840   4649.840        MBR  \n",
       "23051    3  1142  359.730   3785.730   TeleShop  \n",
       "23052    1   447   46.935    493.935   TeleShop  \n",
       "\n",
       "[23053 rows x 10 columns]"
      ]
     },
     "execution_count": 18,
     "metadata": {},
     "output_type": "execute_result"
    }
   ],
   "source": [
    "Transaction = pd.read_csv(\"Transactions.csv\")\n",
    "Transaction"
   ]
  },
  {
   "cell_type": "code",
   "execution_count": 19,
   "id": "22c96091",
   "metadata": {},
   "outputs": [
    {
     "name": "stdout",
     "output_type": "stream",
     "text": [
      "<class 'pandas.core.frame.DataFrame'>\n",
      "RangeIndex: 23053 entries, 0 to 23052\n",
      "Data columns (total 10 columns):\n",
      " #   Column            Non-Null Count  Dtype  \n",
      "---  ------            --------------  -----  \n",
      " 0   transaction_id    23053 non-null  int64  \n",
      " 1   cust_id           23053 non-null  int64  \n",
      " 2   tran_date         23053 non-null  object \n",
      " 3   prod_subcat_code  23053 non-null  int64  \n",
      " 4   prod_cat_code     23053 non-null  int64  \n",
      " 5   Qty               23053 non-null  int64  \n",
      " 6   Rate              23053 non-null  int64  \n",
      " 7   Tax               23053 non-null  float64\n",
      " 8   total_amt         23053 non-null  float64\n",
      " 9   Store_type        23053 non-null  object \n",
      "dtypes: float64(2), int64(6), object(2)\n",
      "memory usage: 1.8+ MB\n"
     ]
    }
   ],
   "source": [
    "Transaction.info()"
   ]
  },
  {
   "cell_type": "code",
   "execution_count": 20,
   "id": "0658c0c4",
   "metadata": {},
   "outputs": [
    {
     "data": {
      "text/plain": [
       "(23053, 10)"
      ]
     },
     "execution_count": 20,
     "metadata": {},
     "output_type": "execute_result"
    }
   ],
   "source": [
    "Transaction.shape"
   ]
  },
  {
   "cell_type": "code",
   "execution_count": 21,
   "id": "7278a3ae",
   "metadata": {},
   "outputs": [
    {
     "data": {
      "text/plain": [
       "Index(['transaction_id', 'cust_id', 'tran_date', 'prod_subcat_code',\n",
       "       'prod_cat_code', 'Qty', 'Rate', 'Tax', 'total_amt', 'Store_type'],\n",
       "      dtype='object')"
      ]
     },
     "execution_count": 21,
     "metadata": {},
     "output_type": "execute_result"
    }
   ],
   "source": [
    "Transaction.columns"
   ]
  },
  {
   "cell_type": "markdown",
   "id": "5d0c57b9",
   "metadata": {},
   "source": [
    "#### Product Cat Data"
   ]
  },
  {
   "cell_type": "code",
   "execution_count": 22,
   "id": "c2862923",
   "metadata": {},
   "outputs": [
    {
     "data": {
      "text/html": [
       "<div>\n",
       "<style scoped>\n",
       "    .dataframe tbody tr th:only-of-type {\n",
       "        vertical-align: middle;\n",
       "    }\n",
       "\n",
       "    .dataframe tbody tr th {\n",
       "        vertical-align: top;\n",
       "    }\n",
       "\n",
       "    .dataframe thead th {\n",
       "        text-align: right;\n",
       "    }\n",
       "</style>\n",
       "<table border=\"1\" class=\"dataframe\">\n",
       "  <thead>\n",
       "    <tr style=\"text-align: right;\">\n",
       "      <th></th>\n",
       "      <th>prod_cat_code</th>\n",
       "      <th>prod_cat</th>\n",
       "      <th>prod_subcat_code</th>\n",
       "      <th>prod_subcat</th>\n",
       "    </tr>\n",
       "  </thead>\n",
       "  <tbody>\n",
       "    <tr>\n",
       "      <th>0</th>\n",
       "      <td>1</td>\n",
       "      <td>Clothing</td>\n",
       "      <td>4</td>\n",
       "      <td>Mens</td>\n",
       "    </tr>\n",
       "    <tr>\n",
       "      <th>1</th>\n",
       "      <td>1</td>\n",
       "      <td>Clothing</td>\n",
       "      <td>1</td>\n",
       "      <td>Women</td>\n",
       "    </tr>\n",
       "  </tbody>\n",
       "</table>\n",
       "</div>"
      ],
      "text/plain": [
       "   prod_cat_code  prod_cat  prod_subcat_code prod_subcat\n",
       "0              1  Clothing                 4        Mens\n",
       "1              1  Clothing                 1       Women"
      ]
     },
     "execution_count": 22,
     "metadata": {},
     "output_type": "execute_result"
    }
   ],
   "source": [
    "Product_cat = pd.read_csv(\"prod_cat_info.csv\")\n",
    "Product_cat.head(2) "
   ]
  },
  {
   "cell_type": "code",
   "execution_count": 23,
   "id": "dbde85c9",
   "metadata": {},
   "outputs": [
    {
     "name": "stdout",
     "output_type": "stream",
     "text": [
      "<class 'pandas.core.frame.DataFrame'>\n",
      "RangeIndex: 23 entries, 0 to 22\n",
      "Data columns (total 4 columns):\n",
      " #   Column            Non-Null Count  Dtype \n",
      "---  ------            --------------  ----- \n",
      " 0   prod_cat_code     23 non-null     int64 \n",
      " 1   prod_cat          23 non-null     object\n",
      " 2   prod_subcat_code  23 non-null     int64 \n",
      " 3   prod_subcat       23 non-null     object\n",
      "dtypes: int64(2), object(2)\n",
      "memory usage: 864.0+ bytes\n"
     ]
    }
   ],
   "source": [
    "Product_cat.info()"
   ]
  },
  {
   "cell_type": "code",
   "execution_count": 24,
   "id": "a6284c25",
   "metadata": {},
   "outputs": [
    {
     "data": {
      "text/plain": [
       "(23, 4)"
      ]
     },
     "execution_count": 24,
     "metadata": {},
     "output_type": "execute_result"
    }
   ],
   "source": [
    "Product_cat.shape"
   ]
  },
  {
   "cell_type": "code",
   "execution_count": 25,
   "id": "73783028",
   "metadata": {},
   "outputs": [
    {
     "data": {
      "text/plain": [
       "Index(['prod_cat_code', 'prod_cat', 'prod_subcat_code', 'prod_subcat'], dtype='object')"
      ]
     },
     "execution_count": 25,
     "metadata": {},
     "output_type": "execute_result"
    }
   ],
   "source": [
    "Product_cat.columns"
   ]
  },
  {
   "cell_type": "markdown",
   "id": "0b9c00ea",
   "metadata": {},
   "source": [
    "### 1. Merge the datasets Customers, Product Hierarchy and Transactions as Customer_Final. Ensure to keep all customers who have done transactions with us and select the join type accordingly. "
   ]
  },
  {
   "cell_type": "code",
   "execution_count": 26,
   "id": "e6442ada",
   "metadata": {},
   "outputs": [
    {
     "data": {
      "text/html": [
       "<div>\n",
       "<style scoped>\n",
       "    .dataframe tbody tr th:only-of-type {\n",
       "        vertical-align: middle;\n",
       "    }\n",
       "\n",
       "    .dataframe tbody tr th {\n",
       "        vertical-align: top;\n",
       "    }\n",
       "\n",
       "    .dataframe thead th {\n",
       "        text-align: right;\n",
       "    }\n",
       "</style>\n",
       "<table border=\"1\" class=\"dataframe\">\n",
       "  <thead>\n",
       "    <tr style=\"text-align: right;\">\n",
       "      <th></th>\n",
       "      <th>transaction_id</th>\n",
       "      <th>cust_id</th>\n",
       "      <th>tran_date</th>\n",
       "      <th>prod_subcat_code</th>\n",
       "      <th>prod_cat_code</th>\n",
       "      <th>Qty</th>\n",
       "      <th>Rate</th>\n",
       "      <th>Tax</th>\n",
       "      <th>total_amt</th>\n",
       "      <th>Store_type</th>\n",
       "      <th>prod_cat</th>\n",
       "      <th>prod_subcat</th>\n",
       "    </tr>\n",
       "  </thead>\n",
       "  <tbody>\n",
       "    <tr>\n",
       "      <th>0</th>\n",
       "      <td>80712190438</td>\n",
       "      <td>270351</td>\n",
       "      <td>28-02-2014</td>\n",
       "      <td>1</td>\n",
       "      <td>1</td>\n",
       "      <td>-5</td>\n",
       "      <td>-772</td>\n",
       "      <td>405.300</td>\n",
       "      <td>-4265.300</td>\n",
       "      <td>e-Shop</td>\n",
       "      <td>Clothing</td>\n",
       "      <td>Women</td>\n",
       "    </tr>\n",
       "    <tr>\n",
       "      <th>1</th>\n",
       "      <td>80712190438</td>\n",
       "      <td>270351</td>\n",
       "      <td>20-02-2014</td>\n",
       "      <td>1</td>\n",
       "      <td>1</td>\n",
       "      <td>5</td>\n",
       "      <td>772</td>\n",
       "      <td>405.300</td>\n",
       "      <td>4265.300</td>\n",
       "      <td>e-Shop</td>\n",
       "      <td>Clothing</td>\n",
       "      <td>Women</td>\n",
       "    </tr>\n",
       "    <tr>\n",
       "      <th>2</th>\n",
       "      <td>73713102191</td>\n",
       "      <td>268867</td>\n",
       "      <td>15-02-2014</td>\n",
       "      <td>1</td>\n",
       "      <td>1</td>\n",
       "      <td>1</td>\n",
       "      <td>714</td>\n",
       "      <td>74.970</td>\n",
       "      <td>788.970</td>\n",
       "      <td>MBR</td>\n",
       "      <td>Clothing</td>\n",
       "      <td>Women</td>\n",
       "    </tr>\n",
       "    <tr>\n",
       "      <th>3</th>\n",
       "      <td>57134739558</td>\n",
       "      <td>270625</td>\n",
       "      <td>14-02-2014</td>\n",
       "      <td>1</td>\n",
       "      <td>1</td>\n",
       "      <td>5</td>\n",
       "      <td>595</td>\n",
       "      <td>312.375</td>\n",
       "      <td>3287.375</td>\n",
       "      <td>TeleShop</td>\n",
       "      <td>Clothing</td>\n",
       "      <td>Women</td>\n",
       "    </tr>\n",
       "    <tr>\n",
       "      <th>4</th>\n",
       "      <td>79536458466</td>\n",
       "      <td>271944</td>\n",
       "      <td>12/2/2014</td>\n",
       "      <td>1</td>\n",
       "      <td>1</td>\n",
       "      <td>2</td>\n",
       "      <td>996</td>\n",
       "      <td>209.160</td>\n",
       "      <td>2201.160</td>\n",
       "      <td>e-Shop</td>\n",
       "      <td>Clothing</td>\n",
       "      <td>Women</td>\n",
       "    </tr>\n",
       "    <tr>\n",
       "      <th>...</th>\n",
       "      <td>...</td>\n",
       "      <td>...</td>\n",
       "      <td>...</td>\n",
       "      <td>...</td>\n",
       "      <td>...</td>\n",
       "      <td>...</td>\n",
       "      <td>...</td>\n",
       "      <td>...</td>\n",
       "      <td>...</td>\n",
       "      <td>...</td>\n",
       "      <td>...</td>\n",
       "      <td>...</td>\n",
       "    </tr>\n",
       "    <tr>\n",
       "      <th>23048</th>\n",
       "      <td>31795262740</td>\n",
       "      <td>275166</td>\n",
       "      <td>1/2/2011</td>\n",
       "      <td>1</td>\n",
       "      <td>4</td>\n",
       "      <td>4</td>\n",
       "      <td>531</td>\n",
       "      <td>223.020</td>\n",
       "      <td>2347.020</td>\n",
       "      <td>e-Shop</td>\n",
       "      <td>Bags</td>\n",
       "      <td>Mens</td>\n",
       "    </tr>\n",
       "    <tr>\n",
       "      <th>23049</th>\n",
       "      <td>85848725285</td>\n",
       "      <td>271131</td>\n",
       "      <td>1/2/2011</td>\n",
       "      <td>1</td>\n",
       "      <td>4</td>\n",
       "      <td>5</td>\n",
       "      <td>1043</td>\n",
       "      <td>547.575</td>\n",
       "      <td>5762.575</td>\n",
       "      <td>e-Shop</td>\n",
       "      <td>Bags</td>\n",
       "      <td>Mens</td>\n",
       "    </tr>\n",
       "    <tr>\n",
       "      <th>23050</th>\n",
       "      <td>12933894691</td>\n",
       "      <td>272706</td>\n",
       "      <td>31-01-2011</td>\n",
       "      <td>1</td>\n",
       "      <td>4</td>\n",
       "      <td>5</td>\n",
       "      <td>361</td>\n",
       "      <td>189.525</td>\n",
       "      <td>1994.525</td>\n",
       "      <td>MBR</td>\n",
       "      <td>Bags</td>\n",
       "      <td>Mens</td>\n",
       "    </tr>\n",
       "    <tr>\n",
       "      <th>23051</th>\n",
       "      <td>6442732971</td>\n",
       "      <td>273698</td>\n",
       "      <td>30-01-2011</td>\n",
       "      <td>1</td>\n",
       "      <td>4</td>\n",
       "      <td>1</td>\n",
       "      <td>1470</td>\n",
       "      <td>154.350</td>\n",
       "      <td>1624.350</td>\n",
       "      <td>e-Shop</td>\n",
       "      <td>Bags</td>\n",
       "      <td>Mens</td>\n",
       "    </tr>\n",
       "    <tr>\n",
       "      <th>23052</th>\n",
       "      <td>32904823908</td>\n",
       "      <td>269539</td>\n",
       "      <td>26-01-2011</td>\n",
       "      <td>1</td>\n",
       "      <td>4</td>\n",
       "      <td>4</td>\n",
       "      <td>455</td>\n",
       "      <td>191.100</td>\n",
       "      <td>2011.100</td>\n",
       "      <td>MBR</td>\n",
       "      <td>Bags</td>\n",
       "      <td>Mens</td>\n",
       "    </tr>\n",
       "  </tbody>\n",
       "</table>\n",
       "<p>23053 rows × 12 columns</p>\n",
       "</div>"
      ],
      "text/plain": [
       "       transaction_id  cust_id   tran_date  prod_subcat_code  prod_cat_code  \\\n",
       "0         80712190438   270351  28-02-2014                 1              1   \n",
       "1         80712190438   270351  20-02-2014                 1              1   \n",
       "2         73713102191   268867  15-02-2014                 1              1   \n",
       "3         57134739558   270625  14-02-2014                 1              1   \n",
       "4         79536458466   271944   12/2/2014                 1              1   \n",
       "...               ...      ...         ...               ...            ...   \n",
       "23048     31795262740   275166    1/2/2011                 1              4   \n",
       "23049     85848725285   271131    1/2/2011                 1              4   \n",
       "23050     12933894691   272706  31-01-2011                 1              4   \n",
       "23051      6442732971   273698  30-01-2011                 1              4   \n",
       "23052     32904823908   269539  26-01-2011                 1              4   \n",
       "\n",
       "       Qty  Rate      Tax  total_amt Store_type  prod_cat prod_subcat  \n",
       "0       -5  -772  405.300  -4265.300     e-Shop  Clothing       Women  \n",
       "1        5   772  405.300   4265.300     e-Shop  Clothing       Women  \n",
       "2        1   714   74.970    788.970        MBR  Clothing       Women  \n",
       "3        5   595  312.375   3287.375   TeleShop  Clothing       Women  \n",
       "4        2   996  209.160   2201.160     e-Shop  Clothing       Women  \n",
       "...    ...   ...      ...        ...        ...       ...         ...  \n",
       "23048    4   531  223.020   2347.020     e-Shop      Bags        Mens  \n",
       "23049    5  1043  547.575   5762.575     e-Shop      Bags        Mens  \n",
       "23050    5   361  189.525   1994.525        MBR      Bags        Mens  \n",
       "23051    1  1470  154.350   1624.350     e-Shop      Bags        Mens  \n",
       "23052    4   455  191.100   2011.100        MBR      Bags        Mens  \n",
       "\n",
       "[23053 rows x 12 columns]"
      ]
     },
     "execution_count": 26,
     "metadata": {},
     "output_type": "execute_result"
    }
   ],
   "source": [
    "semi_final_data = pd.merge(left = Transaction,right =Product_cat,on = ['prod_cat_code','prod_subcat_code'] ,how = 'inner')\n",
    "semi_final_data"
   ]
  },
  {
   "cell_type": "code",
   "execution_count": 27,
   "id": "1c87c128",
   "metadata": {},
   "outputs": [
    {
     "data": {
      "text/html": [
       "<div>\n",
       "<style scoped>\n",
       "    .dataframe tbody tr th:only-of-type {\n",
       "        vertical-align: middle;\n",
       "    }\n",
       "\n",
       "    .dataframe tbody tr th {\n",
       "        vertical-align: top;\n",
       "    }\n",
       "\n",
       "    .dataframe thead th {\n",
       "        text-align: right;\n",
       "    }\n",
       "</style>\n",
       "<table border=\"1\" class=\"dataframe\">\n",
       "  <thead>\n",
       "    <tr style=\"text-align: right;\">\n",
       "      <th></th>\n",
       "      <th>transaction_id</th>\n",
       "      <th>cust_id</th>\n",
       "      <th>tran_date</th>\n",
       "      <th>prod_subcat_code</th>\n",
       "      <th>prod_cat_code</th>\n",
       "      <th>Qty</th>\n",
       "      <th>Rate</th>\n",
       "      <th>Tax</th>\n",
       "      <th>total_amt</th>\n",
       "      <th>Store_type</th>\n",
       "      <th>prod_cat</th>\n",
       "      <th>prod_subcat</th>\n",
       "      <th>customer_Id</th>\n",
       "      <th>DOB</th>\n",
       "      <th>Gender</th>\n",
       "      <th>city_code</th>\n",
       "    </tr>\n",
       "  </thead>\n",
       "  <tbody>\n",
       "    <tr>\n",
       "      <th>0</th>\n",
       "      <td>80712190438</td>\n",
       "      <td>270351</td>\n",
       "      <td>28-02-2014</td>\n",
       "      <td>1</td>\n",
       "      <td>1</td>\n",
       "      <td>-5</td>\n",
       "      <td>-772</td>\n",
       "      <td>405.3</td>\n",
       "      <td>-4265.3</td>\n",
       "      <td>e-Shop</td>\n",
       "      <td>Clothing</td>\n",
       "      <td>Women</td>\n",
       "      <td>270351</td>\n",
       "      <td>26-09-1981</td>\n",
       "      <td>M</td>\n",
       "      <td>5.0</td>\n",
       "    </tr>\n",
       "    <tr>\n",
       "      <th>1</th>\n",
       "      <td>80712190438</td>\n",
       "      <td>270351</td>\n",
       "      <td>20-02-2014</td>\n",
       "      <td>1</td>\n",
       "      <td>1</td>\n",
       "      <td>5</td>\n",
       "      <td>772</td>\n",
       "      <td>405.3</td>\n",
       "      <td>4265.3</td>\n",
       "      <td>e-Shop</td>\n",
       "      <td>Clothing</td>\n",
       "      <td>Women</td>\n",
       "      <td>270351</td>\n",
       "      <td>26-09-1981</td>\n",
       "      <td>M</td>\n",
       "      <td>5.0</td>\n",
       "    </tr>\n",
       "  </tbody>\n",
       "</table>\n",
       "</div>"
      ],
      "text/plain": [
       "   transaction_id  cust_id   tran_date  prod_subcat_code  prod_cat_code  Qty  \\\n",
       "0     80712190438   270351  28-02-2014                 1              1   -5   \n",
       "1     80712190438   270351  20-02-2014                 1              1    5   \n",
       "\n",
       "   Rate    Tax  total_amt Store_type  prod_cat prod_subcat  customer_Id  \\\n",
       "0  -772  405.3    -4265.3     e-Shop  Clothing       Women       270351   \n",
       "1   772  405.3     4265.3     e-Shop  Clothing       Women       270351   \n",
       "\n",
       "          DOB Gender  city_code  \n",
       "0  26-09-1981      M        5.0  \n",
       "1  26-09-1981      M        5.0  "
      ]
     },
     "execution_count": 27,
     "metadata": {},
     "output_type": "execute_result"
    }
   ],
   "source": [
    "final_data = pd.merge(left = semi_final_data,right = customer,left_on = 'cust_id' ,right_on = 'customer_Id',how = 'left')\n",
    "final_data.head(2)"
   ]
  },
  {
   "cell_type": "code",
   "execution_count": 28,
   "id": "42385dad",
   "metadata": {},
   "outputs": [],
   "source": [
    "cust_final = final_data.loc[:,['customer_Id','DOB','Gender','city_code', 'transaction_id','tran_date','Store_type','prod_subcat_code','prod_subcat','prod_cat_code','prod_cat','Qty', 'Rate', 'Tax',\n",
    "       'total_amt']]"
   ]
  },
  {
   "cell_type": "markdown",
   "id": "8c8284b1",
   "metadata": {},
   "source": [
    "### 2. Prepare a summary report for the merged data set.  "
   ]
  },
  {
   "cell_type": "markdown",
   "id": "6258e99b",
   "metadata": {},
   "source": [
    "#### a. Get the column names and their corresponding data types"
   ]
  },
  {
   "cell_type": "code",
   "execution_count": 29,
   "id": "0875bbff",
   "metadata": {},
   "outputs": [
    {
     "data": {
      "text/plain": [
       "customer_Id           int64\n",
       "DOB                  object\n",
       "Gender               object\n",
       "city_code           float64\n",
       "transaction_id        int64\n",
       "tran_date            object\n",
       "Store_type           object\n",
       "prod_subcat_code      int64\n",
       "prod_subcat          object\n",
       "prod_cat_code         int64\n",
       "prod_cat             object\n",
       "Qty                   int64\n",
       "Rate                  int64\n",
       "Tax                 float64\n",
       "total_amt           float64\n",
       "dtype: object"
      ]
     },
     "execution_count": 29,
     "metadata": {},
     "output_type": "execute_result"
    }
   ],
   "source": [
    "cust_final.dtypes"
   ]
  },
  {
   "cell_type": "code",
   "execution_count": 30,
   "id": "947c84a4",
   "metadata": {},
   "outputs": [],
   "source": [
    "cust_final['customer_Id']= cust_final.customer_Id.astype('object')\n",
    "cust_final['transaction_id']= cust_final.transaction_id.astype('object')\n",
    "cust_final['tran_date'] = pd.to_datetime(cust_final.tran_date)\n",
    "cust_final['DOB'] = pd.to_datetime(cust_final.DOB)"
   ]
  },
  {
   "cell_type": "markdown",
   "id": "82178865",
   "metadata": {},
   "source": [
    "#### b. Top/Bottom 10 observations"
   ]
  },
  {
   "cell_type": "code",
   "execution_count": 31,
   "id": "5ffd3f8a",
   "metadata": {},
   "outputs": [
    {
     "data": {
      "text/html": [
       "<div>\n",
       "<style scoped>\n",
       "    .dataframe tbody tr th:only-of-type {\n",
       "        vertical-align: middle;\n",
       "    }\n",
       "\n",
       "    .dataframe tbody tr th {\n",
       "        vertical-align: top;\n",
       "    }\n",
       "\n",
       "    .dataframe thead th {\n",
       "        text-align: right;\n",
       "    }\n",
       "</style>\n",
       "<table border=\"1\" class=\"dataframe\">\n",
       "  <thead>\n",
       "    <tr style=\"text-align: right;\">\n",
       "      <th></th>\n",
       "      <th>customer_Id</th>\n",
       "      <th>DOB</th>\n",
       "      <th>Gender</th>\n",
       "      <th>city_code</th>\n",
       "      <th>transaction_id</th>\n",
       "      <th>tran_date</th>\n",
       "      <th>Store_type</th>\n",
       "      <th>prod_subcat_code</th>\n",
       "      <th>prod_subcat</th>\n",
       "      <th>prod_cat_code</th>\n",
       "      <th>prod_cat</th>\n",
       "      <th>Qty</th>\n",
       "      <th>Rate</th>\n",
       "      <th>Tax</th>\n",
       "      <th>total_amt</th>\n",
       "    </tr>\n",
       "  </thead>\n",
       "  <tbody>\n",
       "    <tr>\n",
       "      <th>0</th>\n",
       "      <td>270351</td>\n",
       "      <td>1981-09-26</td>\n",
       "      <td>M</td>\n",
       "      <td>5.0</td>\n",
       "      <td>80712190438</td>\n",
       "      <td>2014-02-28</td>\n",
       "      <td>e-Shop</td>\n",
       "      <td>1</td>\n",
       "      <td>Women</td>\n",
       "      <td>1</td>\n",
       "      <td>Clothing</td>\n",
       "      <td>-5</td>\n",
       "      <td>-772</td>\n",
       "      <td>405.300</td>\n",
       "      <td>-4265.300</td>\n",
       "    </tr>\n",
       "    <tr>\n",
       "      <th>1</th>\n",
       "      <td>270351</td>\n",
       "      <td>1981-09-26</td>\n",
       "      <td>M</td>\n",
       "      <td>5.0</td>\n",
       "      <td>80712190438</td>\n",
       "      <td>2014-02-20</td>\n",
       "      <td>e-Shop</td>\n",
       "      <td>1</td>\n",
       "      <td>Women</td>\n",
       "      <td>1</td>\n",
       "      <td>Clothing</td>\n",
       "      <td>5</td>\n",
       "      <td>772</td>\n",
       "      <td>405.300</td>\n",
       "      <td>4265.300</td>\n",
       "    </tr>\n",
       "    <tr>\n",
       "      <th>2</th>\n",
       "      <td>268867</td>\n",
       "      <td>1987-10-24</td>\n",
       "      <td>F</td>\n",
       "      <td>4.0</td>\n",
       "      <td>73713102191</td>\n",
       "      <td>2014-02-15</td>\n",
       "      <td>MBR</td>\n",
       "      <td>1</td>\n",
       "      <td>Women</td>\n",
       "      <td>1</td>\n",
       "      <td>Clothing</td>\n",
       "      <td>1</td>\n",
       "      <td>714</td>\n",
       "      <td>74.970</td>\n",
       "      <td>788.970</td>\n",
       "    </tr>\n",
       "    <tr>\n",
       "      <th>3</th>\n",
       "      <td>270625</td>\n",
       "      <td>1992-03-02</td>\n",
       "      <td>M</td>\n",
       "      <td>6.0</td>\n",
       "      <td>57134739558</td>\n",
       "      <td>2014-02-14</td>\n",
       "      <td>TeleShop</td>\n",
       "      <td>1</td>\n",
       "      <td>Women</td>\n",
       "      <td>1</td>\n",
       "      <td>Clothing</td>\n",
       "      <td>5</td>\n",
       "      <td>595</td>\n",
       "      <td>312.375</td>\n",
       "      <td>3287.375</td>\n",
       "    </tr>\n",
       "    <tr>\n",
       "      <th>4</th>\n",
       "      <td>271944</td>\n",
       "      <td>1971-11-12</td>\n",
       "      <td>F</td>\n",
       "      <td>5.0</td>\n",
       "      <td>79536458466</td>\n",
       "      <td>2014-12-02</td>\n",
       "      <td>e-Shop</td>\n",
       "      <td>1</td>\n",
       "      <td>Women</td>\n",
       "      <td>1</td>\n",
       "      <td>Clothing</td>\n",
       "      <td>2</td>\n",
       "      <td>996</td>\n",
       "      <td>209.160</td>\n",
       "      <td>2201.160</td>\n",
       "    </tr>\n",
       "  </tbody>\n",
       "</table>\n",
       "</div>"
      ],
      "text/plain": [
       "  customer_Id        DOB Gender  city_code transaction_id  tran_date  \\\n",
       "0      270351 1981-09-26      M        5.0    80712190438 2014-02-28   \n",
       "1      270351 1981-09-26      M        5.0    80712190438 2014-02-20   \n",
       "2      268867 1987-10-24      F        4.0    73713102191 2014-02-15   \n",
       "3      270625 1992-03-02      M        6.0    57134739558 2014-02-14   \n",
       "4      271944 1971-11-12      F        5.0    79536458466 2014-12-02   \n",
       "\n",
       "  Store_type  prod_subcat_code prod_subcat  prod_cat_code  prod_cat  Qty  \\\n",
       "0     e-Shop                 1       Women              1  Clothing   -5   \n",
       "1     e-Shop                 1       Women              1  Clothing    5   \n",
       "2        MBR                 1       Women              1  Clothing    1   \n",
       "3   TeleShop                 1       Women              1  Clothing    5   \n",
       "4     e-Shop                 1       Women              1  Clothing    2   \n",
       "\n",
       "   Rate      Tax  total_amt  \n",
       "0  -772  405.300  -4265.300  \n",
       "1   772  405.300   4265.300  \n",
       "2   714   74.970    788.970  \n",
       "3   595  312.375   3287.375  \n",
       "4   996  209.160   2201.160  "
      ]
     },
     "execution_count": 31,
     "metadata": {},
     "output_type": "execute_result"
    }
   ],
   "source": [
    "cust_final.head(5)"
   ]
  },
  {
   "cell_type": "code",
   "execution_count": 32,
   "id": "e23f2de8",
   "metadata": {},
   "outputs": [
    {
     "data": {
      "text/html": [
       "<div>\n",
       "<style scoped>\n",
       "    .dataframe tbody tr th:only-of-type {\n",
       "        vertical-align: middle;\n",
       "    }\n",
       "\n",
       "    .dataframe tbody tr th {\n",
       "        vertical-align: top;\n",
       "    }\n",
       "\n",
       "    .dataframe thead th {\n",
       "        text-align: right;\n",
       "    }\n",
       "</style>\n",
       "<table border=\"1\" class=\"dataframe\">\n",
       "  <thead>\n",
       "    <tr style=\"text-align: right;\">\n",
       "      <th></th>\n",
       "      <th>customer_Id</th>\n",
       "      <th>DOB</th>\n",
       "      <th>Gender</th>\n",
       "      <th>city_code</th>\n",
       "      <th>transaction_id</th>\n",
       "      <th>tran_date</th>\n",
       "      <th>Store_type</th>\n",
       "      <th>prod_subcat_code</th>\n",
       "      <th>prod_subcat</th>\n",
       "      <th>prod_cat_code</th>\n",
       "      <th>prod_cat</th>\n",
       "      <th>Qty</th>\n",
       "      <th>Rate</th>\n",
       "      <th>Tax</th>\n",
       "      <th>total_amt</th>\n",
       "    </tr>\n",
       "  </thead>\n",
       "  <tbody>\n",
       "    <tr>\n",
       "      <th>23048</th>\n",
       "      <td>275166</td>\n",
       "      <td>1970-05-11</td>\n",
       "      <td>M</td>\n",
       "      <td>10.0</td>\n",
       "      <td>31795262740</td>\n",
       "      <td>2011-01-02</td>\n",
       "      <td>e-Shop</td>\n",
       "      <td>1</td>\n",
       "      <td>Mens</td>\n",
       "      <td>4</td>\n",
       "      <td>Bags</td>\n",
       "      <td>4</td>\n",
       "      <td>531</td>\n",
       "      <td>223.020</td>\n",
       "      <td>2347.020</td>\n",
       "    </tr>\n",
       "    <tr>\n",
       "      <th>23049</th>\n",
       "      <td>271131</td>\n",
       "      <td>1976-02-07</td>\n",
       "      <td>F</td>\n",
       "      <td>9.0</td>\n",
       "      <td>85848725285</td>\n",
       "      <td>2011-01-02</td>\n",
       "      <td>e-Shop</td>\n",
       "      <td>1</td>\n",
       "      <td>Mens</td>\n",
       "      <td>4</td>\n",
       "      <td>Bags</td>\n",
       "      <td>5</td>\n",
       "      <td>1043</td>\n",
       "      <td>547.575</td>\n",
       "      <td>5762.575</td>\n",
       "    </tr>\n",
       "    <tr>\n",
       "      <th>23050</th>\n",
       "      <td>272706</td>\n",
       "      <td>1974-09-03</td>\n",
       "      <td>M</td>\n",
       "      <td>8.0</td>\n",
       "      <td>12933894691</td>\n",
       "      <td>2011-01-31</td>\n",
       "      <td>MBR</td>\n",
       "      <td>1</td>\n",
       "      <td>Mens</td>\n",
       "      <td>4</td>\n",
       "      <td>Bags</td>\n",
       "      <td>5</td>\n",
       "      <td>361</td>\n",
       "      <td>189.525</td>\n",
       "      <td>1994.525</td>\n",
       "    </tr>\n",
       "    <tr>\n",
       "      <th>23051</th>\n",
       "      <td>273698</td>\n",
       "      <td>1974-06-06</td>\n",
       "      <td>F</td>\n",
       "      <td>1.0</td>\n",
       "      <td>6442732971</td>\n",
       "      <td>2011-01-30</td>\n",
       "      <td>e-Shop</td>\n",
       "      <td>1</td>\n",
       "      <td>Mens</td>\n",
       "      <td>4</td>\n",
       "      <td>Bags</td>\n",
       "      <td>1</td>\n",
       "      <td>1470</td>\n",
       "      <td>154.350</td>\n",
       "      <td>1624.350</td>\n",
       "    </tr>\n",
       "    <tr>\n",
       "      <th>23052</th>\n",
       "      <td>269539</td>\n",
       "      <td>1992-03-20</td>\n",
       "      <td>F</td>\n",
       "      <td>7.0</td>\n",
       "      <td>32904823908</td>\n",
       "      <td>2011-01-26</td>\n",
       "      <td>MBR</td>\n",
       "      <td>1</td>\n",
       "      <td>Mens</td>\n",
       "      <td>4</td>\n",
       "      <td>Bags</td>\n",
       "      <td>4</td>\n",
       "      <td>455</td>\n",
       "      <td>191.100</td>\n",
       "      <td>2011.100</td>\n",
       "    </tr>\n",
       "  </tbody>\n",
       "</table>\n",
       "</div>"
      ],
      "text/plain": [
       "      customer_Id        DOB Gender  city_code transaction_id  tran_date  \\\n",
       "23048      275166 1970-05-11      M       10.0    31795262740 2011-01-02   \n",
       "23049      271131 1976-02-07      F        9.0    85848725285 2011-01-02   \n",
       "23050      272706 1974-09-03      M        8.0    12933894691 2011-01-31   \n",
       "23051      273698 1974-06-06      F        1.0     6442732971 2011-01-30   \n",
       "23052      269539 1992-03-20      F        7.0    32904823908 2011-01-26   \n",
       "\n",
       "      Store_type  prod_subcat_code prod_subcat  prod_cat_code prod_cat  Qty  \\\n",
       "23048     e-Shop                 1        Mens              4     Bags    4   \n",
       "23049     e-Shop                 1        Mens              4     Bags    5   \n",
       "23050        MBR                 1        Mens              4     Bags    5   \n",
       "23051     e-Shop                 1        Mens              4     Bags    1   \n",
       "23052        MBR                 1        Mens              4     Bags    4   \n",
       "\n",
       "       Rate      Tax  total_amt  \n",
       "23048   531  223.020   2347.020  \n",
       "23049  1043  547.575   5762.575  \n",
       "23050   361  189.525   1994.525  \n",
       "23051  1470  154.350   1624.350  \n",
       "23052   455  191.100   2011.100  "
      ]
     },
     "execution_count": 32,
     "metadata": {},
     "output_type": "execute_result"
    }
   ],
   "source": [
    "cust_final.tail(5)"
   ]
  },
  {
   "cell_type": "markdown",
   "id": "d5b2e775",
   "metadata": {},
   "source": [
    "#### c. Frequency tables for all the continious variables"
   ]
  },
  {
   "cell_type": "code",
   "execution_count": 33,
   "id": "3054c8c2",
   "metadata": {},
   "outputs": [
    {
     "data": {
      "text/html": [
       "<div>\n",
       "<style scoped>\n",
       "    .dataframe tbody tr th:only-of-type {\n",
       "        vertical-align: middle;\n",
       "    }\n",
       "\n",
       "    .dataframe tbody tr th {\n",
       "        vertical-align: top;\n",
       "    }\n",
       "\n",
       "    .dataframe thead th {\n",
       "        text-align: right;\n",
       "    }\n",
       "</style>\n",
       "<table border=\"1\" class=\"dataframe\">\n",
       "  <thead>\n",
       "    <tr style=\"text-align: right;\">\n",
       "      <th></th>\n",
       "      <th>city_code</th>\n",
       "      <th>prod_subcat_code</th>\n",
       "      <th>prod_cat_code</th>\n",
       "      <th>Qty</th>\n",
       "      <th>Rate</th>\n",
       "      <th>Tax</th>\n",
       "      <th>total_amt</th>\n",
       "    </tr>\n",
       "  </thead>\n",
       "  <tbody>\n",
       "    <tr>\n",
       "      <th>count</th>\n",
       "      <td>23045.000000</td>\n",
       "      <td>23053.000000</td>\n",
       "      <td>23053.000000</td>\n",
       "      <td>23053.000000</td>\n",
       "      <td>23053.000000</td>\n",
       "      <td>23053.000000</td>\n",
       "      <td>23053.000000</td>\n",
       "    </tr>\n",
       "    <tr>\n",
       "      <th>mean</th>\n",
       "      <td>5.482534</td>\n",
       "      <td>6.149091</td>\n",
       "      <td>3.763632</td>\n",
       "      <td>2.432395</td>\n",
       "      <td>636.369713</td>\n",
       "      <td>248.667192</td>\n",
       "      <td>2107.308002</td>\n",
       "    </tr>\n",
       "    <tr>\n",
       "      <th>std</th>\n",
       "      <td>2.863499</td>\n",
       "      <td>3.726372</td>\n",
       "      <td>1.677016</td>\n",
       "      <td>2.268406</td>\n",
       "      <td>622.363498</td>\n",
       "      <td>187.177773</td>\n",
       "      <td>2507.561264</td>\n",
       "    </tr>\n",
       "    <tr>\n",
       "      <th>min</th>\n",
       "      <td>1.000000</td>\n",
       "      <td>1.000000</td>\n",
       "      <td>1.000000</td>\n",
       "      <td>-5.000000</td>\n",
       "      <td>-1499.000000</td>\n",
       "      <td>7.350000</td>\n",
       "      <td>-8270.925000</td>\n",
       "    </tr>\n",
       "    <tr>\n",
       "      <th>25%</th>\n",
       "      <td>3.000000</td>\n",
       "      <td>3.000000</td>\n",
       "      <td>2.000000</td>\n",
       "      <td>1.000000</td>\n",
       "      <td>312.000000</td>\n",
       "      <td>98.280000</td>\n",
       "      <td>762.450000</td>\n",
       "    </tr>\n",
       "    <tr>\n",
       "      <th>50%</th>\n",
       "      <td>5.000000</td>\n",
       "      <td>5.000000</td>\n",
       "      <td>4.000000</td>\n",
       "      <td>3.000000</td>\n",
       "      <td>710.000000</td>\n",
       "      <td>199.080000</td>\n",
       "      <td>1754.740000</td>\n",
       "    </tr>\n",
       "    <tr>\n",
       "      <th>75%</th>\n",
       "      <td>8.000000</td>\n",
       "      <td>10.000000</td>\n",
       "      <td>5.000000</td>\n",
       "      <td>4.000000</td>\n",
       "      <td>1109.000000</td>\n",
       "      <td>365.715000</td>\n",
       "      <td>3569.150000</td>\n",
       "    </tr>\n",
       "    <tr>\n",
       "      <th>max</th>\n",
       "      <td>10.000000</td>\n",
       "      <td>12.000000</td>\n",
       "      <td>6.000000</td>\n",
       "      <td>5.000000</td>\n",
       "      <td>1500.000000</td>\n",
       "      <td>787.500000</td>\n",
       "      <td>8287.500000</td>\n",
       "    </tr>\n",
       "  </tbody>\n",
       "</table>\n",
       "</div>"
      ],
      "text/plain": [
       "          city_code  prod_subcat_code  prod_cat_code           Qty  \\\n",
       "count  23045.000000      23053.000000   23053.000000  23053.000000   \n",
       "mean       5.482534          6.149091       3.763632      2.432395   \n",
       "std        2.863499          3.726372       1.677016      2.268406   \n",
       "min        1.000000          1.000000       1.000000     -5.000000   \n",
       "25%        3.000000          3.000000       2.000000      1.000000   \n",
       "50%        5.000000          5.000000       4.000000      3.000000   \n",
       "75%        8.000000         10.000000       5.000000      4.000000   \n",
       "max       10.000000         12.000000       6.000000      5.000000   \n",
       "\n",
       "               Rate           Tax     total_amt  \n",
       "count  23053.000000  23053.000000  23053.000000  \n",
       "mean     636.369713    248.667192   2107.308002  \n",
       "std      622.363498    187.177773   2507.561264  \n",
       "min    -1499.000000      7.350000  -8270.925000  \n",
       "25%      312.000000     98.280000    762.450000  \n",
       "50%      710.000000    199.080000   1754.740000  \n",
       "75%     1109.000000    365.715000   3569.150000  \n",
       "max     1500.000000    787.500000   8287.500000  "
      ]
     },
     "execution_count": 33,
     "metadata": {},
     "output_type": "execute_result"
    }
   ],
   "source": [
    "cust_final.describe()"
   ]
  },
  {
   "cell_type": "markdown",
   "id": "5a1b16b9",
   "metadata": {},
   "source": [
    "#### d. Frequency tables for all the categorical variables "
   ]
  },
  {
   "cell_type": "code",
   "execution_count": 34,
   "id": "7373a675",
   "metadata": {},
   "outputs": [
    {
     "data": {
      "text/html": [
       "<div>\n",
       "<style scoped>\n",
       "    .dataframe tbody tr th:only-of-type {\n",
       "        vertical-align: middle;\n",
       "    }\n",
       "\n",
       "    .dataframe tbody tr th {\n",
       "        vertical-align: top;\n",
       "    }\n",
       "\n",
       "    .dataframe thead th {\n",
       "        text-align: right;\n",
       "    }\n",
       "</style>\n",
       "<table border=\"1\" class=\"dataframe\">\n",
       "  <thead>\n",
       "    <tr style=\"text-align: right;\">\n",
       "      <th></th>\n",
       "      <th>customer_Id</th>\n",
       "      <th>Gender</th>\n",
       "      <th>transaction_id</th>\n",
       "      <th>Store_type</th>\n",
       "      <th>prod_subcat</th>\n",
       "      <th>prod_cat</th>\n",
       "    </tr>\n",
       "  </thead>\n",
       "  <tbody>\n",
       "    <tr>\n",
       "      <th>count</th>\n",
       "      <td>23053</td>\n",
       "      <td>23044</td>\n",
       "      <td>23053</td>\n",
       "      <td>23053</td>\n",
       "      <td>23053</td>\n",
       "      <td>23053</td>\n",
       "    </tr>\n",
       "    <tr>\n",
       "      <th>unique</th>\n",
       "      <td>5506</td>\n",
       "      <td>2</td>\n",
       "      <td>20878</td>\n",
       "      <td>4</td>\n",
       "      <td>18</td>\n",
       "      <td>6</td>\n",
       "    </tr>\n",
       "    <tr>\n",
       "      <th>top</th>\n",
       "      <td>269449</td>\n",
       "      <td>M</td>\n",
       "      <td>4170892941</td>\n",
       "      <td>e-Shop</td>\n",
       "      <td>Women</td>\n",
       "      <td>Books</td>\n",
       "    </tr>\n",
       "    <tr>\n",
       "      <th>freq</th>\n",
       "      <td>13</td>\n",
       "      <td>11811</td>\n",
       "      <td>4</td>\n",
       "      <td>9311</td>\n",
       "      <td>3048</td>\n",
       "      <td>6069</td>\n",
       "    </tr>\n",
       "  </tbody>\n",
       "</table>\n",
       "</div>"
      ],
      "text/plain": [
       "        customer_Id Gender  transaction_id Store_type prod_subcat prod_cat\n",
       "count         23053  23044           23053      23053       23053    23053\n",
       "unique         5506      2           20878          4          18        6\n",
       "top          269449      M      4170892941     e-Shop       Women    Books\n",
       "freq             13  11811               4       9311        3048     6069"
      ]
     },
     "execution_count": 34,
     "metadata": {},
     "output_type": "execute_result"
    }
   ],
   "source": [
    "cust_final.select_dtypes('object').describe()"
   ]
  },
  {
   "cell_type": "code",
   "execution_count": 35,
   "id": "2db186cf",
   "metadata": {},
   "outputs": [
    {
     "data": {
      "text/plain": [
       "customer_Id                 object\n",
       "DOB                 datetime64[ns]\n",
       "Gender                      object\n",
       "city_code                  float64\n",
       "transaction_id              object\n",
       "tran_date           datetime64[ns]\n",
       "Store_type                  object\n",
       "prod_subcat_code             int64\n",
       "prod_subcat                 object\n",
       "prod_cat_code                int64\n",
       "prod_cat                    object\n",
       "Qty                          int64\n",
       "Rate                         int64\n",
       "Tax                        float64\n",
       "total_amt                  float64\n",
       "dtype: object"
      ]
     },
     "execution_count": 35,
     "metadata": {},
     "output_type": "execute_result"
    }
   ],
   "source": [
    "cust_final.dtypes"
   ]
  },
  {
   "cell_type": "markdown",
   "id": "f419ff78",
   "metadata": {},
   "source": [
    "### 3. Generate histograms for all continuous variables and frequency bars for categorical variables. "
   ]
  },
  {
   "cell_type": "code",
   "execution_count": 17,
   "id": "3ae207d2",
   "metadata": {},
   "outputs": [
    {
     "data": {
      "image/png": "[encoded data removed]",
      "text/plain": [
       "<Figure size 432x288 with 1 Axes>"
      ]
     },
     "metadata": {},
     "output_type": "display_data"
    },
    {
     "data": {
      "image/png": "[encoded data removed]",
      "text/plain": [
       "<Figure size 432x288 with 1 Axes>"
      ]
     },
     "metadata": {},
     "output_type": "display_data"
    },
    {
     "data": {
      "image/png": "[encoded data removed]",
      "text/plain": [
       "<Figure size 432x288 with 1 Axes>"
      ]
     },
     "metadata": {},
     "output_type": "display_data"
    },
    {
     "data": {
      "image/png": "[encoded data removed]",
      "text/plain": [
       "<Figure size 432x288 with 1 Axes>"
      ]
     },
     "metadata": {},
     "output_type": "display_data"
    },
    {
     "data": {
      "image/png": "[encoded data removed]",
      "text/plain": [
       "<Figure size 432x288 with 1 Axes>"
      ]
     },
     "metadata": {},
     "output_type": "display_data"
    },
    {
     "data": {
      "image/png": "[encoded data removed]",
      "text/plain": [
       "<Figure size 432x288 with 1 Axes>"
      ]
     },
     "metadata": {},
     "output_type": "display_data"
    },
    {
     "data": {
      "image/png": "[encoded data removed]",
      "text/plain": [
       "<Figure size 432x288 with 1 Axes>"
      ]
     },
     "metadata": {},
     "output_type": "display_data"
    }
   ],
   "source": [
    "#Continious variables\n",
    "\n",
    "for x in cust_final.select_dtypes(['int','float']):\n",
    "    plt.hist(cust_final[x])\n",
    "    plt.title(x)\n",
    "    plt.show()"
   ]
  },
  {
   "cell_type": "markdown",
   "id": "b6c5c25b",
   "metadata": {},
   "source": [
    "### Frequency Bar for Catagorical"
   ]
  },
  {
   "cell_type": "code",
   "execution_count": 18,
   "id": "a37bbe74",
   "metadata": {},
   "outputs": [
    {
     "data": {
      "image/png": "[encoded data removed]",
      "text/plain": [
       "<Figure size 432x288 with 1 Axes>"
      ]
     },
     "metadata": {},
     "output_type": "display_data"
    }
   ],
   "source": [
    "output = cust_final.groupby(cust_final.Gender)['Gender'].agg('count')\n",
    "sns.barplot(x=output.index, y=output)\n",
    "plt.show()"
   ]
  },
  {
   "cell_type": "code",
   "execution_count": 37,
   "id": "374b7d39",
   "metadata": {},
   "outputs": [
    {
     "data": {
      "image/png": "[encoded data removed]",
      "text/plain": [
       "<Figure size 432x288 with 1 Axes>"
      ]
     },
     "metadata": {},
     "output_type": "display_data"
    }
   ],
   "source": [
    "output = cust_final.groupby(cust_final.Store_type)['Store_type'].agg('count')\n",
    "sns.barplot(x=output.index, y=output)\n",
    "plt.show()"
   ]
  },
  {
   "cell_type": "code",
   "execution_count": 40,
   "id": "ffde0208",
   "metadata": {},
   "outputs": [
    {
     "data": {
      "image/png": "[encoded data removed]",
      "text/plain": [
       "<Figure size 432x288 with 1 Axes>"
      ]
     },
     "metadata": {},
     "output_type": "display_data"
    }
   ],
   "source": [
    "output = cust_final.groupby(cust_final.prod_cat)['prod_cat'].agg('count')\n",
    "sns.barplot(x=output.index, y=output)\n",
    "plt.show()"
   ]
  },
  {
   "cell_type": "code",
   "execution_count": 47,
   "id": "e91ca144",
   "metadata": {},
   "outputs": [
    {
     "data": {
      "image/png": "[encoded data removed]",
      "text/plain": [
       "<Figure size 1080x432 with 1 Axes>"
      ]
     },
     "metadata": {},
     "output_type": "display_data"
    }
   ],
   "source": [
    "plt.figure(figsize = (15,6))\n",
    "sns.countplot(x=cust_final.prod_subcat)\n",
    "plt.show()"
   ]
  },
  {
   "cell_type": "markdown",
   "id": "32c2d224",
   "metadata": {},
   "source": [
    "### 4. Calculate the following information using the merged dataset "
   ]
  },
  {
   "cell_type": "markdown",
   "id": "fce2fb3a",
   "metadata": {},
   "source": [
    "#### a. Time period of the available transaction data"
   ]
  },
  {
   "cell_type": "code",
   "execution_count": 61,
   "id": "588dadd4",
   "metadata": {},
   "outputs": [],
   "source": [
    "from_date = cust_final.tran_date.sort_values(ascending = True).head(1).reset_index(drop = True)"
   ]
  },
  {
   "cell_type": "code",
   "execution_count": 64,
   "id": "681c4280",
   "metadata": {},
   "outputs": [],
   "source": [
    "to_date = cust_final.tran_date.sort_values(ascending = True).tail(1).reset_index(drop = True)"
   ]
  },
  {
   "cell_type": "code",
   "execution_count": 66,
   "id": "2d5a3501",
   "metadata": {},
   "outputs": [
    {
     "name": "stdout",
     "output_type": "stream",
     "text": [
      "Transaction data is available from  2011-01-02 00:00:00 to 2014-12-02 00:00:00\n"
     ]
    }
   ],
   "source": [
    "print(f\"Transaction data is available from  {from_date[0]} to {to_date[0]}\")"
   ]
  },
  {
   "cell_type": "markdown",
   "id": "2bf7809c",
   "metadata": {},
   "source": [
    "#### b. Count of transactions where the total amount of transaction was negative "
   ]
  },
  {
   "cell_type": "code",
   "execution_count": 69,
   "id": "e79ee659",
   "metadata": {},
   "outputs": [
    {
     "data": {
      "text/plain": [
       "2177"
      ]
     },
     "execution_count": 69,
     "metadata": {},
     "output_type": "execute_result"
    }
   ],
   "source": [
    "cust_final[cust_final.total_amt <0].shape[0]"
   ]
  },
  {
   "cell_type": "markdown",
   "id": "fff1acc1",
   "metadata": {},
   "source": [
    "### 5. Analyze which product categories are more popular among females vs male customers. "
   ]
  },
  {
   "cell_type": "code",
   "execution_count": 70,
   "id": "ab53058f",
   "metadata": {},
   "outputs": [
    {
     "data": {
      "text/html": [
       "<div>\n",
       "<style scoped>\n",
       "    .dataframe tbody tr th:only-of-type {\n",
       "        vertical-align: middle;\n",
       "    }\n",
       "\n",
       "    .dataframe tbody tr th {\n",
       "        vertical-align: top;\n",
       "    }\n",
       "\n",
       "    .dataframe thead th {\n",
       "        text-align: right;\n",
       "    }\n",
       "</style>\n",
       "<table border=\"1\" class=\"dataframe\">\n",
       "  <thead>\n",
       "    <tr style=\"text-align: right;\">\n",
       "      <th>Gender</th>\n",
       "      <th>F</th>\n",
       "      <th>M</th>\n",
       "    </tr>\n",
       "    <tr>\n",
       "      <th>prod_cat</th>\n",
       "      <th></th>\n",
       "      <th></th>\n",
       "    </tr>\n",
       "  </thead>\n",
       "  <tbody>\n",
       "    <tr>\n",
       "      <th>Books</th>\n",
       "      <td>2949</td>\n",
       "      <td>3116</td>\n",
       "    </tr>\n",
       "    <tr>\n",
       "      <th>Electronics</th>\n",
       "      <td>2328</td>\n",
       "      <td>2570</td>\n",
       "    </tr>\n",
       "    <tr>\n",
       "      <th>Home and kitchen</th>\n",
       "      <td>1994</td>\n",
       "      <td>2134</td>\n",
       "    </tr>\n",
       "    <tr>\n",
       "      <th>Clothing</th>\n",
       "      <td>1439</td>\n",
       "      <td>1518</td>\n",
       "    </tr>\n",
       "    <tr>\n",
       "      <th>Footwear</th>\n",
       "      <td>1529</td>\n",
       "      <td>1469</td>\n",
       "    </tr>\n",
       "    <tr>\n",
       "      <th>Bags</th>\n",
       "      <td>994</td>\n",
       "      <td>1004</td>\n",
       "    </tr>\n",
       "  </tbody>\n",
       "</table>\n",
       "</div>"
      ],
      "text/plain": [
       "Gender               F     M\n",
       "prod_cat                    \n",
       "Books             2949  3116\n",
       "Electronics       2328  2570\n",
       "Home and kitchen  1994  2134\n",
       "Clothing          1439  1518\n",
       "Footwear          1529  1469\n",
       "Bags               994  1004"
      ]
     },
     "execution_count": 70,
     "metadata": {},
     "output_type": "execute_result"
    }
   ],
   "source": [
    "cust_final.pivot_table(index = 'prod_cat',columns = ['Gender'] ,values = 'customer_Id' ,aggfunc = 'count').sort_values(by = 'M' ,ascending = False,axis = 0)"
   ]
  },
  {
   "cell_type": "markdown",
   "id": "10fa4753",
   "metadata": {},
   "source": [
    "### 6. Which City code has the maximum customers and what was the percentage of customers from that city? "
   ]
  },
  {
   "cell_type": "code",
   "execution_count": 71,
   "id": "48f8983a",
   "metadata": {},
   "outputs": [
    {
     "data": {
      "text/html": [
       "<div>\n",
       "<style scoped>\n",
       "    .dataframe tbody tr th:only-of-type {\n",
       "        vertical-align: middle;\n",
       "    }\n",
       "\n",
       "    .dataframe tbody tr th {\n",
       "        vertical-align: top;\n",
       "    }\n",
       "\n",
       "    .dataframe thead th {\n",
       "        text-align: right;\n",
       "    }\n",
       "</style>\n",
       "<table border=\"1\" class=\"dataframe\">\n",
       "  <thead>\n",
       "    <tr style=\"text-align: right;\">\n",
       "      <th></th>\n",
       "      <th>city_code</th>\n",
       "      <th>customer_Id</th>\n",
       "      <th>percent</th>\n",
       "    </tr>\n",
       "  </thead>\n",
       "  <tbody>\n",
       "    <tr>\n",
       "      <th>0</th>\n",
       "      <td>4.0</td>\n",
       "      <td>2422</td>\n",
       "      <td>10.51</td>\n",
       "    </tr>\n",
       "  </tbody>\n",
       "</table>\n",
       "</div>"
      ],
      "text/plain": [
       "   city_code  customer_Id  percent\n",
       "0        4.0         2422    10.51"
      ]
     },
     "execution_count": 71,
     "metadata": {},
     "output_type": "execute_result"
    }
   ],
   "source": [
    "max_ = cust_final.pivot_table(index = 'city_code',values = 'customer_Id',aggfunc = 'count').sort_values(by = 'customer_Id',ascending = False)\n",
    "max_.reset_index(inplace = True)\n",
    "max_['percent'] = round((max_.customer_Id/(cust_final['customer_Id'].count()))*100,2)\n",
    "max_.head(1)"
   ]
  },
  {
   "cell_type": "markdown",
   "id": "e157a545",
   "metadata": {},
   "source": [
    "### 7. Which store type sells the maximum products by value and by quantity?"
   ]
  },
  {
   "cell_type": "code",
   "execution_count": 81,
   "id": "8064d331",
   "metadata": {},
   "outputs": [
    {
     "data": {
      "text/html": [
       "<div>\n",
       "<style scoped>\n",
       "    .dataframe tbody tr th:only-of-type {\n",
       "        vertical-align: middle;\n",
       "    }\n",
       "\n",
       "    .dataframe tbody tr th {\n",
       "        vertical-align: top;\n",
       "    }\n",
       "\n",
       "    .dataframe thead th {\n",
       "        text-align: right;\n",
       "    }\n",
       "</style>\n",
       "<table border=\"1\" class=\"dataframe\">\n",
       "  <thead>\n",
       "    <tr style=\"text-align: right;\">\n",
       "      <th></th>\n",
       "      <th>Store_type</th>\n",
       "      <th>Qty</th>\n",
       "      <th>Rate</th>\n",
       "    </tr>\n",
       "  </thead>\n",
       "  <tbody>\n",
       "    <tr>\n",
       "      <th>3</th>\n",
       "      <td>e-Shop</td>\n",
       "      <td>22763</td>\n",
       "      <td>5941001</td>\n",
       "    </tr>\n",
       "  </tbody>\n",
       "</table>\n",
       "</div>"
      ],
      "text/plain": [
       "  Store_type    Qty     Rate\n",
       "3     e-Shop  22763  5941001"
      ]
     },
     "execution_count": 81,
     "metadata": {},
     "output_type": "execute_result"
    }
   ],
   "source": [
    "cust_final.pivot_table(index = 'Store_type',values = ['Qty','Rate'],aggfunc = sum).reset_index().sort_values(by=['Qty','Rate'],ascending = False).head(1)"
   ]
  },
  {
   "cell_type": "markdown",
   "id": "5ae6efc9",
   "metadata": {},
   "source": [
    "### 8. What was the total amount earned from the \"Electronics\" and \"Clothing\" categories from Flagship Stores? "
   ]
  },
  {
   "cell_type": "code",
   "execution_count": 82,
   "id": "aff11d84",
   "metadata": {},
   "outputs": [],
   "source": [
    "sal = cust_final.groupby(['Store_type','prod_cat']).total_amt.agg(sum).reset_index()"
   ]
  },
  {
   "cell_type": "code",
   "execution_count": 83,
   "id": "e2c514db",
   "metadata": {},
   "outputs": [
    {
     "data": {
      "text/html": [
       "<div>\n",
       "<style scoped>\n",
       "    .dataframe tbody tr th:only-of-type {\n",
       "        vertical-align: middle;\n",
       "    }\n",
       "\n",
       "    .dataframe tbody tr th {\n",
       "        vertical-align: top;\n",
       "    }\n",
       "\n",
       "    .dataframe thead th {\n",
       "        text-align: right;\n",
       "    }\n",
       "</style>\n",
       "<table border=\"1\" class=\"dataframe\">\n",
       "  <thead>\n",
       "    <tr style=\"text-align: right;\">\n",
       "      <th></th>\n",
       "      <th>Store_type</th>\n",
       "      <th>prod_cat</th>\n",
       "      <th>total_amt</th>\n",
       "    </tr>\n",
       "  </thead>\n",
       "  <tbody>\n",
       "    <tr>\n",
       "      <th>2</th>\n",
       "      <td>Flagship store</td>\n",
       "      <td>Clothing</td>\n",
       "      <td>1194423.23</td>\n",
       "    </tr>\n",
       "    <tr>\n",
       "      <th>3</th>\n",
       "      <td>Flagship store</td>\n",
       "      <td>Electronics</td>\n",
       "      <td>2215136.04</td>\n",
       "    </tr>\n",
       "  </tbody>\n",
       "</table>\n",
       "</div>"
      ],
      "text/plain": [
       "       Store_type     prod_cat   total_amt\n",
       "2  Flagship store     Clothing  1194423.23\n",
       "3  Flagship store  Electronics  2215136.04"
      ]
     },
     "execution_count": 83,
     "metadata": {},
     "output_type": "execute_result"
    }
   ],
   "source": [
    "sal[(sal.Store_type == 'Flagship store') & (sal.prod_cat.isin(['Electronics','Clothing'])) ]"
   ]
  },
  {
   "cell_type": "markdown",
   "id": "1e1f9f9a",
   "metadata": {},
   "source": [
    "### 9. What was the total amount earned from \"Male\" customers under the \"Electronics\" category?"
   ]
  },
  {
   "cell_type": "code",
   "execution_count": 84,
   "id": "0494589a",
   "metadata": {},
   "outputs": [
    {
     "data": {
      "text/plain": [
       "5703109.425"
      ]
     },
     "execution_count": 84,
     "metadata": {},
     "output_type": "execute_result"
    }
   ],
   "source": [
    "cust_final[(cust_final.Gender == \"M\") & (cust_final.prod_cat == \"Electronics\" )].total_amt.sum()"
   ]
  },
  {
   "cell_type": "markdown",
   "id": "f9c563bb",
   "metadata": {},
   "source": [
    "### 10. How many customers have more than 10 unique transactions, after removing all transactions which have any negative amounts? "
   ]
  },
  {
   "cell_type": "code",
   "execution_count": 92,
   "id": "755b064c",
   "metadata": {},
   "outputs": [],
   "source": [
    "trans = cust_final[cust_final.total_amt > 0].pivot_table(index = ('customer_Id'),values = 'transaction_id',aggfunc= 'count')"
   ]
  },
  {
   "cell_type": "code",
   "execution_count": 93,
   "id": "d09a706a",
   "metadata": {},
   "outputs": [],
   "source": [
    "trans.reset_index(inplace = True)"
   ]
  },
  {
   "cell_type": "code",
   "execution_count": 98,
   "id": "fbc74ef8",
   "metadata": {},
   "outputs": [
    {
     "data": {
      "text/plain": [
       "customer_Id       6\n",
       "transaction_id    6\n",
       "dtype: int64"
      ]
     },
     "execution_count": 98,
     "metadata": {},
     "output_type": "execute_result"
    }
   ],
   "source": [
    "trans[trans.transaction_id > 10].count()"
   ]
  },
  {
   "cell_type": "markdown",
   "id": "e8c2e13a",
   "metadata": {},
   "source": [
    "### 11. For all customers aged between 25 - 35, find out:"
   ]
  },
  {
   "cell_type": "markdown",
   "id": "6c3f3ef9",
   "metadata": {},
   "source": [
    "##### Creating a new column for age"
   ]
  },
  {
   "cell_type": "code",
   "execution_count": 100,
   "id": "18ddfa12",
   "metadata": {},
   "outputs": [],
   "source": [
    "d = pd.Timestamp.now()"
   ]
  },
  {
   "cell_type": "code",
   "execution_count": 101,
   "id": "c8fdae59",
   "metadata": {},
   "outputs": [],
   "source": [
    "cust_final['Age'] =  (d.year - (cust_final.DOB.dt.year))"
   ]
  },
  {
   "cell_type": "markdown",
   "id": "2ae1202b",
   "metadata": {},
   "source": [
    "#### data between age 25 - 35"
   ]
  },
  {
   "cell_type": "code",
   "execution_count": 102,
   "id": "36d41e5e",
   "metadata": {},
   "outputs": [],
   "source": [
    "b = cust_final[(cust_final.Age >=25) & (cust_final.Age <=35)]"
   ]
  },
  {
   "cell_type": "markdown",
   "id": "140ad705",
   "metadata": {},
   "source": [
    "#### a. What was the total amount spent for “Electronics” and “Books” product categories?"
   ]
  },
  {
   "cell_type": "code",
   "execution_count": 103,
   "id": "12c2101f",
   "metadata": {},
   "outputs": [
    {
     "name": "stdout",
     "output_type": "stream",
     "text": [
      " Total amount in category Books is Rs. 3174083.0 \n",
      " Total amount in category Electronics is Rs. 2883921.0\n"
     ]
    }
   ],
   "source": [
    "c =b[(b.prod_cat == 'Electronics') |  (b.prod_cat =='Books')].pivot_table(index = 'prod_cat',values = 'total_amt',aggfunc= sum).reset_index().round()\n",
    "print(f\" Total amount in category {c.prod_cat[0]} is Rs. {c.total_amt[0]} \\n Total amount in category {c.prod_cat[1]} is Rs. {c.total_amt[1]}\")"
   ]
  },
  {
   "cell_type": "markdown",
   "id": "fdc7b0ac",
   "metadata": {},
   "source": [
    "#### b. What was the total amount spent by these customers between 1st Jan, 2014 to 1st Mar, 2014?\n"
   ]
  },
  {
   "cell_type": "code",
   "execution_count": 104,
   "id": "56e5023e",
   "metadata": {},
   "outputs": [],
   "source": [
    "a = b[(b.tran_date >= '2014-01-01') & (b.tran_date <= '2014-03-01')].total_amt.sum() "
   ]
  },
  {
   "cell_type": "code",
   "execution_count": 105,
   "id": "edd1038b",
   "metadata": {},
   "outputs": [
    {
     "name": "stdout",
     "output_type": "stream",
     "text": [
      "Total amount spent by the customer betweer 1st Jan, 2014 to 1st Mar, 2014 is Rs.428230.595 \n"
     ]
    }
   ],
   "source": [
    "print(f\"Total amount spent by the customer betweer 1st Jan, 2014 to 1st Mar, 2014 is Rs.{a} \")"
   ]
  },
  {
   "cell_type": "code",
   "execution_count": null,
   "id": "33e88242",
   "metadata": {},
   "outputs": [],
   "source": []
  }
 ],
 "metadata": {
  "kernelspec": {
   "display_name": "Python 3 (ipykernel)",
   "language": "python",
   "name": "python3"
  },
  "language_info": {
   "codemirror_mode": {
    "name": "ipython",
    "version": 3
   },
   "file_extension": ".py",
   "mimetype": "text/x-python",
   "name": "python",
   "nbconvert_exporter": "python",
   "pygments_lexer": "ipython3",
   "version": "3.9.7"
  }
 },
 "nbformat": 4,
 "nbformat_minor": 5
}
